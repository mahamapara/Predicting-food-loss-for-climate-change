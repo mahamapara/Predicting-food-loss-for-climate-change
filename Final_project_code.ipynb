{
  "nbformat": 4,
  "nbformat_minor": 0,
  "metadata": {
    "colab": {
      "name": "Final project code.ipynb",
      "provenance": [],
      "collapsed_sections": [],
      "authorship_tag": "ABX9TyNDAgOC85KQqlvbr9yLc+kw",
      "include_colab_link": true
    },
    "kernelspec": {
      "name": "python3",
      "display_name": "Python 3"
    }
  },
  "cells": [
    {
      "cell_type": "markdown",
      "metadata": {
        "id": "view-in-github",
        "colab_type": "text"
      },
      "source": [
        "<a href=\"https://colab.research.google.com/github/mahamapara/Predicting-food-loss-for-climate-change/blob/main/Final_project_code.ipynb\" target=\"_parent\"><img src=\"https://colab.research.google.com/assets/colab-badge.svg\" alt=\"Open In Colab\"/></a>"
      ]
    },
    {
      "cell_type": "markdown",
      "metadata": {
        "id": "ObB3l2DB1GL_"
      },
      "source": [
        "<h3>Modules/packages required</h3>"
      ]
    },
    {
      "cell_type": "code",
      "metadata": {
        "id": "NgcJ1YG_fMJ_"
      },
      "source": [
        "import pandas as pd\n",
        "import numpy as np\n",
        "import seaborn as sns \n",
        "import matplotlib.pyplot as pyplot\n",
        "from sklearn import linear_model\n",
        "import statsmodels.api as sm\n",
        "from pandas.api.types import is_string_dtype"
      ],
      "execution_count": null,
      "outputs": []
    },
    {
      "cell_type": "markdown",
      "metadata": {
        "id": "DA1g2Mzf1L_D"
      },
      "source": [
        "<h3>Loading, exploring, manipulating the data</h3>"
      ]
    },
    {
      "cell_type": "code",
      "metadata": {
        "id": "oQD4grtu1MHN"
      },
      "source": [
        "#reads the data\n",
        "fw = pd.read_csv(\"foodwaste.csv\") "
      ],
      "execution_count": null,
      "outputs": []
    },
    {
      "cell_type": "code",
      "metadata": {
        "id": "DxuTOPsE1RRM"
      },
      "source": [
        "#gives datatypes of each column in the dataframe\n",
        "fw.dtypes"
      ],
      "execution_count": null,
      "outputs": []
    },
    {
      "cell_type": "code",
      "metadata": {
        "id": "vN4zhvzv1TMI"
      },
      "source": [
        "#looking at the data\n",
        "fw.head()"
      ],
      "execution_count": null,
      "outputs": []
    },
    {
      "cell_type": "code",
      "metadata": {
        "id": "80K4T2h61WcH"
      },
      "source": [
        "#total number of missing values in the dataset and dim of dataset\n",
        "fw.isnull().sum().sum()\n",
        "fw.shape"
      ],
      "execution_count": null,
      "outputs": []
    },
    {
      "cell_type": "code",
      "metadata": {
        "id": "LOJGMTYmPU2C"
      },
      "source": [
        "#total number of missing values in the causeofloss feature\n",
        "fw['causeofloss'].isnull().sum().sum()"
      ],
      "execution_count": null,
      "outputs": []
    },
    {
      "cell_type": "code",
      "metadata": {
        "id": "7-2pE9HFPZWG"
      },
      "source": [
        "#drop columns with NaN in causeofloss\n",
        "fw_loss = fw[fw['causeofloss'].notna()]\n",
        "fw_loss.shape\n",
        "\n",
        "fw_loss"
      ],
      "execution_count": null,
      "outputs": []
    },
    {
      "cell_type": "code",
      "metadata": {
        "id": "R99gUkx1PZza"
      },
      "source": [
        "#value counts for each country\n",
        "fw_loss['country'].value_counts()"
      ],
      "execution_count": null,
      "outputs": []
    },
    {
      "cell_type": "code",
      "metadata": {
        "id": "1eGTAviFPfFN"
      },
      "source": [
        "#including only countries with 20 or more data points:\n",
        "#- China, Benin, Ethiopia, Ghana, India, Iran, Kenya, Korea, Malawi, Bangladesh, \n",
        "#Nepal, New Zealand, Nigeria, Pakistan, Philippines, Rwanda, UK, Tanzania\n",
        "\n",
        "###Subset dataset so that only the above 18 countries data are present. Save this to a new datafram object fw_final\n",
        "\n",
        "places = ['China', 'Benin', 'Ethiopia', 'Ghana', 'India', 'Iran (Islamic Republic of)', 'Kenya', 'Republic of Korea', 'Malawi', 'Bangladesh', 'Nepal', 'New Zealand', 'Nigeria', 'Pakistan', 'Philippines', 'Rwanda', 'United Kingdom', 'United Republic of Tanzania']\n",
        "\n",
        "fw_final = fw_loss[fw_loss.country.isin(places)]\n",
        "\n",
        "fw_final.shape #935 x 22"
      ],
      "execution_count": null,
      "outputs": []
    },
    {
      "cell_type": "code",
      "metadata": {
        "id": "kOOELnVpPjLY"
      },
      "source": [
        "####Based on the number of null values or relevance to question, deciding which variables should be removed\n",
        "\n",
        "fw_loss['region'].isnull().sum().sum() #766---------------------------REMOVE\n",
        "fw_loss['measureditemcpc'].isnull().sum().sum() #0---------keep\n",
        "fw_loss['loss_quantity'].isnull().sum().sum() #1040-------------------REMOVE\n",
        "fw_loss['loss_qualitiative'].isnull().sum().sum() #1057---------------REMOVE\n",
        "fw_loss['loss_monetary'].isnull().sum().sum() #1089-------------------REMOVE\n",
        "fw_loss['activity'].isnull().sum().sum() #812-----don't know\n",
        "fw_loss['fsc_location1'].isnull().sum().sum() #45----------keep\n",
        "fw_loss['periodofstorage'].isnull().sum().sum() #1013-----------------REMOVE\n",
        "fw_loss['treatment'].isnull().sum().sum() #1128-----------------------REMOVE\n",
        "fw_loss['causeofloss'].isnull().sum().sum() #0-------------keep\n",
        "fw_loss['samplesize'].isnull().sum().sum() #599\n",
        "fw_loss['units'].isnull().sum().sum() #1128---------------------------REMOVE\n",
        "fw_loss['method_datacollection'].isnull().sum().sum() #568\n",
        "fw_loss['tag_datacollection'].isnull().sum().sum() #0-----------------REMOVE\n",
        "fw_loss['reference'].isnull().sum().sum() #138------------------------REMOVE\n",
        "fw_loss['url'].isnull().sum().sum() #164------------------------------REMOVE\n",
        "fw_loss['crop'].isnull().sum().sum() #0 ------------------keep\n",
        "fw_loss['timepointyears'].isnull().sum().sum() #0---------keep\n",
        "fw_loss['loss_per_clean'].isnull().sum().sum() #0---------keep\n",
        "fw_loss['percentage_loss_of_quantity'].isnull().sum().sum() #1----keep"
      ],
      "execution_count": null,
      "outputs": []
    },
    {
      "cell_type": "code",
      "metadata": {
        "id": "NuGFq9vPPjYa"
      },
      "source": [
        "#removed the following variables\n",
        "fw_final = fw_final.drop(['region', 'loss_quantity', 'loss_qualitiative', 'loss_monetary', 'periodofstorage', 'treatment', 'units', 'tag_datacollection', 'reference', 'url', 'geographicaream49'], axis = 1)"
      ],
      "execution_count": null,
      "outputs": []
    },
    {
      "cell_type": "code",
      "metadata": {
        "id": "mCUzwAtePjhZ"
      },
      "source": [
        "fw_final.shape #after removing columns shape is 935 x 12. so the 10 columns have been removed"
      ],
      "execution_count": null,
      "outputs": []
    },
    {
      "cell_type": "code",
      "metadata": {
        "id": "YsA4MlBAPj7N"
      },
      "source": [
        "#Looking at ther variables to remove based on number of Null values\n",
        "fw_final['activity'].isnull().sum().sum() #647-------------------remove\n",
        "fw_final['samplesize'].isnull().sum().sum() #492-----------------remove\n",
        "fw_final['method_datacollection'].isnull().sum().sum() #452------remove"
      ],
      "execution_count": null,
      "outputs": []
    },
    {
      "cell_type": "code",
      "metadata": {
        "id": "EesjgN-mPkG6"
      },
      "source": [
        "#removed the above ones\n",
        "fw_final = fw_final.drop(['activity', 'samplesize', 'method_datacollection'], axis = 1)"
      ],
      "execution_count": null,
      "outputs": []
    },
    {
      "cell_type": "code",
      "metadata": {
        "id": "32aRe-miPkQX"
      },
      "source": [
        "#checking shape to confirm changes were made to fw_final\n",
        "fw_final.shape"
      ],
      "execution_count": null,
      "outputs": []
    },
    {
      "cell_type": "code",
      "metadata": {
        "id": "qcvafLo_PkdN"
      },
      "source": [
        "#remove %loss quantity and rename loss_per_clean as they are the same data points but loss_per_clean is cleaner. \n",
        "fw_final = fw_final.drop(['percentage_loss_of_quantity'], axis = 1)\n",
        "fw_final = fw_final.drop(['measureditemcpc'], axis = 1) #categorization for crops, we'll encode instead\n",
        "\n",
        "fw_final.shape"
      ],
      "execution_count": null,
      "outputs": []
    },
    {
      "cell_type": "code",
      "metadata": {
        "id": "MIfdHmJMP1w0"
      },
      "source": [
        "#rename loss_per_clean to percentage_loss_of_quant\n",
        "fw_final.rename(columns={'loss_per_clean': 'percentage_loss_of_quant'}, inplace=True)\n",
        "fw_final.head()#to check if change happened"
      ],
      "execution_count": null,
      "outputs": []
    },
    {
      "cell_type": "markdown",
      "metadata": {
        "id": "JX8WFEV6QEc_"
      },
      "source": [
        "<h5>Getting counts for each category in the features</h5>"
      ]
    },
    {
      "cell_type": "code",
      "metadata": {
        "id": "Xt3sb-qmP4TU"
      },
      "source": [
        "#for country\n",
        "fw_final['country'].value_counts()"
      ],
      "execution_count": null,
      "outputs": []
    },
    {
      "cell_type": "code",
      "metadata": {
        "id": "W8sBdvinQF4O"
      },
      "source": [
        ""
      ],
      "execution_count": null,
      "outputs": []
    }
  ]
}